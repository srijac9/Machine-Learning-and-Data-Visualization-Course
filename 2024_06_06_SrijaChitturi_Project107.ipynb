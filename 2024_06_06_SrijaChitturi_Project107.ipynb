{
  "nbformat": 4,
  "nbformat_minor": 0,
  "metadata": {
    "colab": {
      "provenance": [],
      "include_colab_link": true
    },
    "kernelspec": {
      "name": "python3",
      "display_name": "Python 3"
    },
    "language_info": {
      "name": "python"
    }
  },
  "cells": [
    {
      "cell_type": "markdown",
      "metadata": {
        "id": "view-in-github",
        "colab_type": "text"
      },
      "source": [
        "<a href=\"https://colab.research.google.com/github/srijac9/Machine-Learning-and-Data-Visualization-Course/blob/main/2024_06_06_SrijaChitturi_Project107.ipynb\" target=\"_parent\"><img src=\"https://colab.research.google.com/assets/colab-badge.svg\" alt=\"Open In Colab\"/></a>"
      ]
    },
    {
      "cell_type": "markdown",
      "metadata": {
        "id": "erYQyGJOT0Ya"
      },
      "source": [
        "### Instructions"
      ]
    },
    {
      "cell_type": "markdown",
      "metadata": {
        "id": "bEyBzxYRhrLG"
      },
      "source": [
        "#### Goal of the Project\n",
        "\n",
        "This project is designed for you to practice and solve the activities that are based on the concepts covered in the lesson:\n",
        "\n",
        " K-Means Clustering - Clustering 1D and 2D Data"
      ]
    },
    {
      "cell_type": "markdown",
      "metadata": {
        "id": "pIrCR0_QMp18"
      },
      "source": [
        "---"
      ]
    },
    {
      "cell_type": "markdown",
      "metadata": {
        "id": "5EjyJE2qFF9i"
      },
      "source": [
        "#### Getting Started:\n",
        "\n",
        "1. Follow the next 3 steps to create a copy of this colab file and start working on the project.\n",
        "\n",
        "2. Create a duplicate copy of the Colab file as described below.\n",
        "\n",
        "  - Click on the **File menu**. A new drop-down list will appear.\n",
        "\n",
        "   <img src='https://student-datasets-bucket.s3.ap-south-1.amazonaws.com/images/lesson-0/0_file_menu.png' width=500>\n",
        "\n",
        "  - Click on the **Save a copy in Drive** option. A duplicate copy will get created. It will open up in the new tab on your web browser.\n",
        "\n",
        "  <img src='https://student-datasets-bucket.s3.ap-south-1.amazonaws.com/images/lesson-0/1_create_colab_duplicate_copy.png' width=500>\n",
        "\n",
        "3. After creating the duplicate copy of the notebook, please rename it in the **YYYY-MM-DD_StudentName_Project107** format.\n",
        "\n",
        "4. Now, write your code in the prescribed code cells."
      ]
    },
    {
      "cell_type": "markdown",
      "metadata": {
        "id": "59PSzjE7FFXS"
      },
      "source": [
        "---"
      ]
    },
    {
      "cell_type": "markdown",
      "metadata": {
        "id": "oHEruqrlZewu"
      },
      "source": [
        "#### Problem Statement\n",
        "\n",
        "In this project, you are going to practice the concept of unsupervised learning techniques by clustering 1D data.  For this project, we will be using the **Orbital Inclination** values of various planets (provided by NASA).\n",
        "\n",
        "Dataset source: https://nssdc.gsfc.nasa.gov/planetary/factsheet/"
      ]
    },
    {
      "cell_type": "markdown",
      "metadata": {
        "id": "qIVNEyp4Mrem"
      },
      "source": [
        "---"
      ]
    },
    {
      "cell_type": "markdown",
      "metadata": {
        "id": "dkkg2QzEu3lP"
      },
      "source": [
        "### List of Activities\n",
        "\n",
        "**Activity 1:** Import Modules and Generate DataFrame\n",
        "\n",
        "**Activity 2:** Visualise the Orbital Inclinations\n",
        "  \n",
        "**Activity 3:** Cluster the Orbital Inclinations\n",
        "\n",
        "**Activity 4:** Visualise the Clusters"
      ]
    },
    {
      "cell_type": "markdown",
      "metadata": {
        "id": "eUc0Lq-HlQ3O"
      },
      "source": [
        "---"
      ]
    },
    {
      "cell_type": "markdown",
      "metadata": {
        "id": "DQSgqaR1lire"
      },
      "source": [
        "#### Activity 1: Import Modules and Generate DataFrame\n",
        "\n",
        "In this activity, you have to import the necessary modules and create a DataFrame with the following orbital inclination values (in degrees).\n",
        "\n",
        "1. Venus: 3.4\n",
        "\n",
        "2. Earth: 0.0\n",
        "\n",
        "3. Moon: 5.1\n",
        "\n",
        "4. Mars: 1.9\n",
        "\n",
        "5. Jupiter: 1.3\n",
        "\n",
        "6. Saturn: 2.5\n",
        "\n",
        "7. Uranus: 0.8\n",
        "\n",
        "8. Neptune: 1.8\n",
        "\n",
        "Generate a DataFrame (say `orbital_df`) by passing the below dictionary inside the `DataFrame` function of the `pandas` module:\n",
        "\n",
        "```\n",
        "orbital_dict = {'Planents': ['Venus', 'Earth', 'Moon', 'Mars', 'Jupiter', 'Saturn', 'Uranus', 'Neptune'],\n",
        "                'Inclination': [3.4,\t0.0,\t5.1,\t1.9,\t1.3,\t2.5,\t0.8,\t1.8]}\n",
        "\n",
        "```"
      ]
    },
    {
      "cell_type": "code",
      "metadata": {
        "id": "4AWWc0FxkxCq",
        "colab": {
          "base_uri": "https://localhost:8080/",
          "height": 206
        },
        "outputId": "d8a572ff-9daa-4b41-834b-df6cb92156e1"
      },
      "source": [
        "# Import the modules and generate the DataFrame.\n",
        "import pandas as pd\n",
        "\n",
        "orbital_df = pd.DataFrame({'Planents': ['Venus', 'Earth', 'Moon', 'Mars', 'Jupiter', 'Saturn', 'Uranus', 'Neptune'], 'Inclination': [3.4,    0.0,    5.1,    1.9,    1.3,    2.5,    0.8,    1.8]})\n",
        "# Create a dictionary consisting of planet names and their orbital inclination.\n",
        "\n",
        "# Generate a dataframe from the dictionary\n",
        "orbital_df.head()"
      ],
      "execution_count": null,
      "outputs": [
        {
          "output_type": "execute_result",
          "data": {
            "text/plain": [
              "  Planents  Inclination\n",
              "0    Venus          3.4\n",
              "1    Earth          0.0\n",
              "2     Moon          5.1\n",
              "3     Mars          1.9\n",
              "4  Jupiter          1.3"
            ],
            "text/html": [
              "\n",
              "  <div id=\"df-da3a5303-9131-4337-a0b1-3fa791cf0f3f\" class=\"colab-df-container\">\n",
              "    <div>\n",
              "<style scoped>\n",
              "    .dataframe tbody tr th:only-of-type {\n",
              "        vertical-align: middle;\n",
              "    }\n",
              "\n",
              "    .dataframe tbody tr th {\n",
              "        vertical-align: top;\n",
              "    }\n",
              "\n",
              "    .dataframe thead th {\n",
              "        text-align: right;\n",
              "    }\n",
              "</style>\n",
              "<table border=\"1\" class=\"dataframe\">\n",
              "  <thead>\n",
              "    <tr style=\"text-align: right;\">\n",
              "      <th></th>\n",
              "      <th>Planents</th>\n",
              "      <th>Inclination</th>\n",
              "    </tr>\n",
              "  </thead>\n",
              "  <tbody>\n",
              "    <tr>\n",
              "      <th>0</th>\n",
              "      <td>Venus</td>\n",
              "      <td>3.4</td>\n",
              "    </tr>\n",
              "    <tr>\n",
              "      <th>1</th>\n",
              "      <td>Earth</td>\n",
              "      <td>0.0</td>\n",
              "    </tr>\n",
              "    <tr>\n",
              "      <th>2</th>\n",
              "      <td>Moon</td>\n",
              "      <td>5.1</td>\n",
              "    </tr>\n",
              "    <tr>\n",
              "      <th>3</th>\n",
              "      <td>Mars</td>\n",
              "      <td>1.9</td>\n",
              "    </tr>\n",
              "    <tr>\n",
              "      <th>4</th>\n",
              "      <td>Jupiter</td>\n",
              "      <td>1.3</td>\n",
              "    </tr>\n",
              "  </tbody>\n",
              "</table>\n",
              "</div>\n",
              "    <div class=\"colab-df-buttons\">\n",
              "\n",
              "  <div class=\"colab-df-container\">\n",
              "    <button class=\"colab-df-convert\" onclick=\"convertToInteractive('df-da3a5303-9131-4337-a0b1-3fa791cf0f3f')\"\n",
              "            title=\"Convert this dataframe to an interactive table.\"\n",
              "            style=\"display:none;\">\n",
              "\n",
              "  <svg xmlns=\"http://www.w3.org/2000/svg\" height=\"24px\" viewBox=\"0 -960 960 960\">\n",
              "    <path d=\"M120-120v-720h720v720H120Zm60-500h600v-160H180v160Zm220 220h160v-160H400v160Zm0 220h160v-160H400v160ZM180-400h160v-160H180v160Zm440 0h160v-160H620v160ZM180-180h160v-160H180v160Zm440 0h160v-160H620v160Z\"/>\n",
              "  </svg>\n",
              "    </button>\n",
              "\n",
              "  <style>\n",
              "    .colab-df-container {\n",
              "      display:flex;\n",
              "      gap: 12px;\n",
              "    }\n",
              "\n",
              "    .colab-df-convert {\n",
              "      background-color: #E8F0FE;\n",
              "      border: none;\n",
              "      border-radius: 50%;\n",
              "      cursor: pointer;\n",
              "      display: none;\n",
              "      fill: #1967D2;\n",
              "      height: 32px;\n",
              "      padding: 0 0 0 0;\n",
              "      width: 32px;\n",
              "    }\n",
              "\n",
              "    .colab-df-convert:hover {\n",
              "      background-color: #E2EBFA;\n",
              "      box-shadow: 0px 1px 2px rgba(60, 64, 67, 0.3), 0px 1px 3px 1px rgba(60, 64, 67, 0.15);\n",
              "      fill: #174EA6;\n",
              "    }\n",
              "\n",
              "    .colab-df-buttons div {\n",
              "      margin-bottom: 4px;\n",
              "    }\n",
              "\n",
              "    [theme=dark] .colab-df-convert {\n",
              "      background-color: #3B4455;\n",
              "      fill: #D2E3FC;\n",
              "    }\n",
              "\n",
              "    [theme=dark] .colab-df-convert:hover {\n",
              "      background-color: #434B5C;\n",
              "      box-shadow: 0px 1px 3px 1px rgba(0, 0, 0, 0.15);\n",
              "      filter: drop-shadow(0px 1px 2px rgba(0, 0, 0, 0.3));\n",
              "      fill: #FFFFFF;\n",
              "    }\n",
              "  </style>\n",
              "\n",
              "    <script>\n",
              "      const buttonEl =\n",
              "        document.querySelector('#df-da3a5303-9131-4337-a0b1-3fa791cf0f3f button.colab-df-convert');\n",
              "      buttonEl.style.display =\n",
              "        google.colab.kernel.accessAllowed ? 'block' : 'none';\n",
              "\n",
              "      async function convertToInteractive(key) {\n",
              "        const element = document.querySelector('#df-da3a5303-9131-4337-a0b1-3fa791cf0f3f');\n",
              "        const dataTable =\n",
              "          await google.colab.kernel.invokeFunction('convertToInteractive',\n",
              "                                                    [key], {});\n",
              "        if (!dataTable) return;\n",
              "\n",
              "        const docLinkHtml = 'Like what you see? Visit the ' +\n",
              "          '<a target=\"_blank\" href=https://colab.research.google.com/notebooks/data_table.ipynb>data table notebook</a>'\n",
              "          + ' to learn more about interactive tables.';\n",
              "        element.innerHTML = '';\n",
              "        dataTable['output_type'] = 'display_data';\n",
              "        await google.colab.output.renderOutput(dataTable, element);\n",
              "        const docLink = document.createElement('div');\n",
              "        docLink.innerHTML = docLinkHtml;\n",
              "        element.appendChild(docLink);\n",
              "      }\n",
              "    </script>\n",
              "  </div>\n",
              "\n",
              "\n",
              "<div id=\"df-706755e8-7147-4316-ab4a-f3c9c17459b9\">\n",
              "  <button class=\"colab-df-quickchart\" onclick=\"quickchart('df-706755e8-7147-4316-ab4a-f3c9c17459b9')\"\n",
              "            title=\"Suggest charts\"\n",
              "            style=\"display:none;\">\n",
              "\n",
              "<svg xmlns=\"http://www.w3.org/2000/svg\" height=\"24px\"viewBox=\"0 0 24 24\"\n",
              "     width=\"24px\">\n",
              "    <g>\n",
              "        <path d=\"M19 3H5c-1.1 0-2 .9-2 2v14c0 1.1.9 2 2 2h14c1.1 0 2-.9 2-2V5c0-1.1-.9-2-2-2zM9 17H7v-7h2v7zm4 0h-2V7h2v10zm4 0h-2v-4h2v4z\"/>\n",
              "    </g>\n",
              "</svg>\n",
              "  </button>\n",
              "\n",
              "<style>\n",
              "  .colab-df-quickchart {\n",
              "      --bg-color: #E8F0FE;\n",
              "      --fill-color: #1967D2;\n",
              "      --hover-bg-color: #E2EBFA;\n",
              "      --hover-fill-color: #174EA6;\n",
              "      --disabled-fill-color: #AAA;\n",
              "      --disabled-bg-color: #DDD;\n",
              "  }\n",
              "\n",
              "  [theme=dark] .colab-df-quickchart {\n",
              "      --bg-color: #3B4455;\n",
              "      --fill-color: #D2E3FC;\n",
              "      --hover-bg-color: #434B5C;\n",
              "      --hover-fill-color: #FFFFFF;\n",
              "      --disabled-bg-color: #3B4455;\n",
              "      --disabled-fill-color: #666;\n",
              "  }\n",
              "\n",
              "  .colab-df-quickchart {\n",
              "    background-color: var(--bg-color);\n",
              "    border: none;\n",
              "    border-radius: 50%;\n",
              "    cursor: pointer;\n",
              "    display: none;\n",
              "    fill: var(--fill-color);\n",
              "    height: 32px;\n",
              "    padding: 0;\n",
              "    width: 32px;\n",
              "  }\n",
              "\n",
              "  .colab-df-quickchart:hover {\n",
              "    background-color: var(--hover-bg-color);\n",
              "    box-shadow: 0 1px 2px rgba(60, 64, 67, 0.3), 0 1px 3px 1px rgba(60, 64, 67, 0.15);\n",
              "    fill: var(--button-hover-fill-color);\n",
              "  }\n",
              "\n",
              "  .colab-df-quickchart-complete:disabled,\n",
              "  .colab-df-quickchart-complete:disabled:hover {\n",
              "    background-color: var(--disabled-bg-color);\n",
              "    fill: var(--disabled-fill-color);\n",
              "    box-shadow: none;\n",
              "  }\n",
              "\n",
              "  .colab-df-spinner {\n",
              "    border: 2px solid var(--fill-color);\n",
              "    border-color: transparent;\n",
              "    border-bottom-color: var(--fill-color);\n",
              "    animation:\n",
              "      spin 1s steps(1) infinite;\n",
              "  }\n",
              "\n",
              "  @keyframes spin {\n",
              "    0% {\n",
              "      border-color: transparent;\n",
              "      border-bottom-color: var(--fill-color);\n",
              "      border-left-color: var(--fill-color);\n",
              "    }\n",
              "    20% {\n",
              "      border-color: transparent;\n",
              "      border-left-color: var(--fill-color);\n",
              "      border-top-color: var(--fill-color);\n",
              "    }\n",
              "    30% {\n",
              "      border-color: transparent;\n",
              "      border-left-color: var(--fill-color);\n",
              "      border-top-color: var(--fill-color);\n",
              "      border-right-color: var(--fill-color);\n",
              "    }\n",
              "    40% {\n",
              "      border-color: transparent;\n",
              "      border-right-color: var(--fill-color);\n",
              "      border-top-color: var(--fill-color);\n",
              "    }\n",
              "    60% {\n",
              "      border-color: transparent;\n",
              "      border-right-color: var(--fill-color);\n",
              "    }\n",
              "    80% {\n",
              "      border-color: transparent;\n",
              "      border-right-color: var(--fill-color);\n",
              "      border-bottom-color: var(--fill-color);\n",
              "    }\n",
              "    90% {\n",
              "      border-color: transparent;\n",
              "      border-bottom-color: var(--fill-color);\n",
              "    }\n",
              "  }\n",
              "</style>\n",
              "\n",
              "  <script>\n",
              "    async function quickchart(key) {\n",
              "      const quickchartButtonEl =\n",
              "        document.querySelector('#' + key + ' button');\n",
              "      quickchartButtonEl.disabled = true;  // To prevent multiple clicks.\n",
              "      quickchartButtonEl.classList.add('colab-df-spinner');\n",
              "      try {\n",
              "        const charts = await google.colab.kernel.invokeFunction(\n",
              "            'suggestCharts', [key], {});\n",
              "      } catch (error) {\n",
              "        console.error('Error during call to suggestCharts:', error);\n",
              "      }\n",
              "      quickchartButtonEl.classList.remove('colab-df-spinner');\n",
              "      quickchartButtonEl.classList.add('colab-df-quickchart-complete');\n",
              "    }\n",
              "    (() => {\n",
              "      let quickchartButtonEl =\n",
              "        document.querySelector('#df-706755e8-7147-4316-ab4a-f3c9c17459b9 button');\n",
              "      quickchartButtonEl.style.display =\n",
              "        google.colab.kernel.accessAllowed ? 'block' : 'none';\n",
              "    })();\n",
              "  </script>\n",
              "</div>\n",
              "\n",
              "    </div>\n",
              "  </div>\n"
            ],
            "application/vnd.google.colaboratory.intrinsic+json": {
              "type": "dataframe",
              "variable_name": "orbital_df",
              "summary": "{\n  \"name\": \"orbital_df\",\n  \"rows\": 8,\n  \"fields\": [\n    {\n      \"column\": \"Planents\",\n      \"properties\": {\n        \"dtype\": \"string\",\n        \"num_unique_values\": 8,\n        \"samples\": [\n          \"Earth\",\n          \"Saturn\",\n          \"Venus\"\n        ],\n        \"semantic_type\": \"\",\n        \"description\": \"\"\n      }\n    },\n    {\n      \"column\": \"Inclination\",\n      \"properties\": {\n        \"dtype\": \"number\",\n        \"std\": 1.5910463762658118,\n        \"min\": 0.0,\n        \"max\": 5.1,\n        \"num_unique_values\": 8,\n        \"samples\": [\n          0.0,\n          2.5,\n          3.4\n        ],\n        \"semantic_type\": \"\",\n        \"description\": \"\"\n      }\n    }\n  ]\n}"
            }
          },
          "metadata": {},
          "execution_count": 1
        }
      ]
    },
    {
      "cell_type": "markdown",
      "metadata": {
        "id": "6lZkx1MCESiD"
      },
      "source": [
        "---"
      ]
    },
    {
      "cell_type": "markdown",
      "metadata": {
        "id": "mCzdhBVlEiLY"
      },
      "source": [
        "####Activity 2: Visualise the Orbital Inclinations\n",
        "\n",
        "Create a scatter plot to visualise the distribution of the values of orbital inclinations.\n",
        "\n",
        "Plot the inclinations on $X$-axis and fix the $Y$-axis values at `1` using the `numpy.ones` function.\n"
      ]
    },
    {
      "cell_type": "code",
      "metadata": {
        "id": "Egcj1BfhEjXS",
        "colab": {
          "base_uri": "https://localhost:8080/",
          "height": 447
        },
        "outputId": "3ee3700a-b7a2-41eb-be85-00de60be82b1"
      },
      "source": [
        "# Create a scatter plot to visualise the distribution of the values of orbital inclinations.\n",
        "import matplotlib.pyplot as plt\n",
        "import numpy as np\n",
        "\n",
        "plt.scatter(orbital_df['Inclination'], np.ones(8))"
      ],
      "execution_count": null,
      "outputs": [
        {
          "output_type": "execute_result",
          "data": {
            "text/plain": [
              "<matplotlib.collections.PathCollection at 0x79839605d690>"
            ]
          },
          "metadata": {},
          "execution_count": 2
        },
        {
          "output_type": "display_data",
          "data": {
            "text/plain": [
              "<Figure size 640x480 with 1 Axes>"
            ],
            "image/png": "[encoded data removed]"
          },
          "metadata": {}
        }
      ]
    },
    {
      "cell_type": "markdown",
      "metadata": {
        "id": "9Wx5ITAAmLW_"
      },
      "source": [
        "**Q**: How many clusters can be created from observing the graph?\n",
        "\n",
        "**A**: 4 clusters"
      ]
    },
    {
      "cell_type": "markdown",
      "metadata": {
        "id": "Fp9PEYa4EhWg"
      },
      "source": [
        "---"
      ]
    },
    {
      "cell_type": "markdown",
      "metadata": {
        "id": "41LyOGU27PIR"
      },
      "source": [
        "####Activity 3: Cluster the Orbital Inclinations\n",
        "\n",
        "Create clusters for the orbital inclinations (1D array) using K-means.\n",
        "\n",
        "The syntax for using the K-means algorithm is as follows:\n",
        "\n",
        "`sklearn.cluster.KMeans(n_clusters, random_state)`\n",
        "\n",
        "Where,\n",
        "- `n_cluster`: The number of clusters to form. The default value is `8`.\n",
        "- `random_state`: An integer value for consistent results.\n",
        "\n",
        "\n",
        "**Steps to follow:**\n",
        "\n",
        "1. Import `KMeans` class from `sklearn.clusters` module.\n",
        "\n",
        "2. Create an object (say `kmeans_1d`) of the `KMeans` constructor and provide the following inputs:\n",
        "\n",
        " - `n_clusters = 3`:  We are randomly selecting a number of clusters as `3`. However, you need not always select 3 clusters.\n",
        "\n",
        " - `random_state = 2`\n",
        "\n",
        "3. Store the orbital inclination values from `orbital_df` in a variable `X` as follow:\n",
        "    \n",
        "     `X = orbital_df.loc[:, ['Inclination']]`.\n",
        "\n",
        "4. Call the `fit()` function using the object of  `KMeans` class and pass `X`.\n",
        "\n",
        "5. Get the predicted clusters for the data points by calling the `predict()` function on `kmeans_1d` and pass `X`.\n",
        "\n",
        "6. Print the labels obtained after using `predict()` function.\n",
        "\n"
      ]
    },
    {
      "cell_type": "code",
      "metadata": {
        "id": "I8Ns8460MbXe",
        "colab": {
          "base_uri": "https://localhost:8080/"
        },
        "outputId": "f60248fb-1b33-457a-95b6-72ef02703ab5"
      },
      "source": [
        "# Import scikit learn 'KMeans' library and determine the clusters.\n",
        "from sklearn.cluster import KMeans\n",
        "\n",
        "# Create an object 'kmeans_1d' of the KMeans constructor.\n",
        "k_means = KMeans(n_clusters = 3, random_state = 2)\n",
        "\n",
        "# Store the orbital inclination values from 'orbital_df' in a variable 'X' using 'loc' function.\n",
        "X = orbital_df.loc[:,['Inclination']]\n",
        "print(X)\n",
        "# Call the 'fit()' function using the object of KMeans class and pass 'X'.\n",
        "k_means.fit(X)\n",
        "# Get the predicted clusters.\n",
        "labels = k_means.predict(X)\n",
        "\n",
        "# Print the labels.\n",
        "labels"
      ],
      "execution_count": null,
      "outputs": [
        {
          "output_type": "stream",
          "name": "stdout",
          "text": [
            "   Inclination\n",
            "0          3.4\n",
            "1          0.0\n",
            "2          5.1\n",
            "3          1.9\n",
            "4          1.3\n",
            "5          2.5\n",
            "6          0.8\n",
            "7          1.8\n"
          ]
        },
        {
          "output_type": "stream",
          "name": "stderr",
          "text": [
            "/usr/local/lib/python3.10/dist-packages/sklearn/cluster/_kmeans.py:870: FutureWarning: The default value of `n_init` will change from 10 to 'auto' in 1.4. Set the value of `n_init` explicitly to suppress the warning\n",
            "  warnings.warn(\n"
          ]
        },
        {
          "output_type": "execute_result",
          "data": {
            "text/plain": [
              "array([0, 2, 0, 1, 1, 1, 2, 1], dtype=int32)"
            ]
          },
          "metadata": {},
          "execution_count": 8
        }
      ]
    },
    {
      "cell_type": "markdown",
      "metadata": {
        "id": "mjOu0UdImttm"
      },
      "source": [
        "7. Also, print the cluster centroids."
      ]
    },
    {
      "cell_type": "code",
      "metadata": {
        "id": "GIWKL28PS6yQ",
        "colab": {
          "base_uri": "https://localhost:8080/"
        },
        "outputId": "19a66164-ebb1-4157-dea7-8664d7f32659"
      },
      "source": [
        "# Print the centroids using the 'cluster_centers_' atribute.\n",
        "k_means.cluster_centers_"
      ],
      "execution_count": null,
      "outputs": [
        {
          "output_type": "execute_result",
          "data": {
            "text/plain": [
              "array([[4.25 ],\n",
              "       [1.875],\n",
              "       [0.4  ]])"
            ]
          },
          "metadata": {},
          "execution_count": 9
        }
      ]
    },
    {
      "cell_type": "markdown",
      "metadata": {
        "id": "PrwwrqHnm3V6"
      },
      "source": [
        "**Q** What are the centroids of the clusters?\n",
        "\n",
        "**A**: 4.25, 1.875, 0.4"
      ]
    },
    {
      "cell_type": "markdown",
      "metadata": {
        "id": "OjjK0hS-MZir"
      },
      "source": [
        "---"
      ]
    },
    {
      "cell_type": "markdown",
      "metadata": {
        "id": "C-Un0WcqTUZd"
      },
      "source": [
        "#### Activity 4: Visualise the Clusters\n",
        "\n",
        "Visualise the clusters by plotting them on a scatter plot.\n",
        "\n",
        "**Steps to follow:**\n",
        "\n",
        "1. Plot the `X` values coloured by the `labels` by passing `c = labels` parameter inside the `scatter()` function as follows:\n",
        "\n",
        "  `plt.scatter(X, np.ones(8), c = labels)`\n",
        "\n",
        "2. Plot the cluster centers or centroids on the scatter plot by plotting `kmeans_1d.cluster_centers_` on the $x$-axis and `np.ones(3)` on the $y$-axis.\n",
        "\n",
        "  **Note:** You need to use `np.ones(3)` as we have three cluster centers.\n",
        "\n",
        "  To differentiate the data points from the centroids, pass `marker = *` while plotting the centroids. You can set the marker size as well for the cluster centres using the `s` parameter."
      ]
    },
    {
      "cell_type": "code",
      "metadata": {
        "id": "yWYuGiX6y3Mb",
        "colab": {
          "base_uri": "https://localhost:8080/",
          "height": 447
        },
        "outputId": "5482ea0c-6b52-44a6-f209-888d4f0f52e1"
      },
      "source": [
        "# Plot the clusters and their centroids on a scatter plot.\n",
        "plt.scatter(X, np.ones(8), c= labels)\n",
        "plt.scatter(k_means.cluster_centers_, np.ones(3), marker = '*', c = 'black', s =100)"
      ],
      "execution_count": null,
      "outputs": [
        {
          "output_type": "execute_result",
          "data": {
            "text/plain": [
              "<matplotlib.collections.PathCollection at 0x79838b562470>"
            ]
          },
          "metadata": {},
          "execution_count": 11
        },
        {
          "output_type": "display_data",
          "data": {
            "text/plain": [
              "<Figure size 640x480 with 1 Axes>"
            ],
            "image/png": "[encoded data removed]"
          },
          "metadata": {}
        }
      ]
    },
    {
      "cell_type": "markdown",
      "metadata": {
        "id": "EkOdt9LRHnnD"
      },
      "source": [
        "**Q:** Write your observation from the graph.\n",
        "\n",
        "**A:** There are three clusters, planets with inclinations under 1 are grouped together, inclinations between 1 and 3 are grouped together and those between 3 and 5 are grouped together. The centroids for CL1 is at around 0.5, for CL2 is around 2, and for CL3 it's at 4."
      ]
    },
    {
      "cell_type": "markdown",
      "metadata": {
        "id": "MMG-0TpvcB8C"
      },
      "source": [
        "---"
      ]
    },
    {
      "cell_type": "markdown",
      "metadata": {
        "id": "2vGVJGYaHJ73"
      },
      "source": [
        "### Submitting the Project:\n",
        "\n",
        "1. After finishing the project, click on the **Share** button on the top right corner of the notebook. A new dialog box will appear.\n",
        "\n",
        "  <img src='https://student-datasets-bucket.s3.ap-south-1.amazonaws.com/images/project-share-images/2_share_button.png' width=500>\n",
        "\n",
        "2. In the dialog box, make sure that '**Anyone on the Internet with this link can view**' option is selected and then click on the **Copy link** button.\n",
        "\n",
        "   <img src='https://student-datasets-bucket.s3.ap-south-1.amazonaws.com/images/project-share-images/3_copy_link.png' width=500>\n",
        "\n",
        "3. The link of the duplicate copy (named as **YYYY-MM-DD_StudentName_Project107**) of the notebook will get copied\n",
        "\n",
        "   <img src='https://student-datasets-bucket.s3.ap-south-1.amazonaws.com/images/project-share-images/4_copy_link_confirmation.png' width=500>\n",
        "\n",
        "4. Go to your dashboard and click on the **My Projects** option.\n",
        "   \n",
        "   <img src='https://student-datasets-bucket.s3.ap-south-1.amazonaws.com/images/project-share-images/5_student_dashboard.png' width=800>\n",
        "\n",
        "  <img src='https://student-datasets-bucket.s3.ap-south-1.amazonaws.com/images/project-share-images/6_my_projects.png' width=800>\n",
        "\n",
        "5. Click on the **View Project** button for the project you want to submit.\n",
        "\n",
        "   <img src='https://student-datasets-bucket.s3.ap-south-1.amazonaws.com/images/project-share-images/7_view_project.png' width=800>\n",
        "\n",
        "6. Click on the **Submit Project Here** button.\n",
        "\n",
        "   <img src='https://student-datasets-bucket.s3.ap-south-1.amazonaws.com/images/project-share-images/8_submit_project.png' width=800>\n",
        "\n",
        "7. Paste the link to the project file named as **YYYY-MM-DD_StudentName_Project107** in the URL box and then click on the **Submit** button.\n",
        "\n",
        "   <img src='https://student-datasets-bucket.s3.ap-south-1.amazonaws.com/images/project-share-images/9_enter_project_url.png' width=800>"
      ]
    },
    {
      "cell_type": "markdown",
      "metadata": {
        "id": "3LWpzOqgHJKg"
      },
      "source": [
        "---"
      ]
    }
  ]
}