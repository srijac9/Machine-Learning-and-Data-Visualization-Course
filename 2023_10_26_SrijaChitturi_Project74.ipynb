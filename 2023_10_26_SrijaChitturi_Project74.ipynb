{
  "nbformat": 4,
  "nbformat_minor": 0,
  "metadata": {
    "colab": {
      "provenance": [],
      "include_colab_link": true
    },
    "kernelspec": {
      "name": "python3",
      "display_name": "Python 3"
    }
  },
  "cells": [
    {
      "cell_type": "markdown",
      "metadata": {
        "id": "view-in-github",
        "colab_type": "text"
      },
      "source": [
        "<a href=\"https://colab.research.google.com/github/srijac9/Machine-Learning-and-Data-Visualization-Course/blob/main/2023_10_26_SrijaChitturi_Project74.ipynb\" target=\"_parent\"><img src=\"https://colab.research.google.com/assets/colab-badge.svg\" alt=\"Open In Colab\"/></a>"
      ]
    },
    {
      "cell_type": "markdown",
      "metadata": {
        "id": "erYQyGJOT0Ya"
      },
      "source": [
        "### Instructions"
      ]
    },
    {
      "cell_type": "markdown",
      "metadata": {
        "id": "Y3MP63loT5wP"
      },
      "source": [
        "#### Goal of the Project\n",
        "\n",
        "This project is designed for you to practice and solve the activities that are based on the concepts covered in the following lessons:\n",
        "\n",
        " 1. Logistic Regression - Univariate Classification I\n",
        "\n",
        " 2. Logistic Regression - Univariate Classification II\n",
        "\n",
        " 3. Logistic Regression - Decision Boundary"
      ]
    },
    {
      "cell_type": "markdown",
      "metadata": {
        "id": "9c6PRCvhv4PR"
      },
      "source": [
        "---"
      ]
    },
    {
      "cell_type": "markdown",
      "metadata": {
        "id": "1FWpfLjdvaGR"
      },
      "source": [
        "#### Getting Started:\n",
        "\n",
        "1. Follow the next 3 steps to create a copy of this colab file and start working on the project.\n",
        "\n",
        "2. Create a duplicate copy of the Colab file as described below.\n",
        "\n",
        "  - Click on the **File menu**. A new drop-down list will appear.\n",
        "\n",
        "   <img src='https://student-datasets-bucket.s3.ap-south-1.amazonaws.com/images/lesson-0/0_file_menu.png' width=500>\n",
        "\n",
        "  - Click on the **Save a copy in Drive** option. A duplicate copy will get created. It will open up in the new tab on your web browser.\n",
        "\n",
        "  <img src='https://student-datasets-bucket.s3.ap-south-1.amazonaws.com/images/lesson-0/1_create_colab_duplicate_copy.png' width=500>\n",
        "\n",
        "3. After creating the duplicate copy of the notebook, please rename it in the **YYYY-MM-DD_StudentName_Project74** format.\n",
        "\n",
        "4. Now, write your code in the prescribed code cells.\n"
      ]
    },
    {
      "cell_type": "markdown",
      "metadata": {
        "id": "gY660g6Cvfg1"
      },
      "source": [
        "---"
      ]
    },
    {
      "cell_type": "markdown",
      "metadata": {
        "id": "Y8OJHhG4v5ej"
      },
      "source": [
        "### Problem Statement\n",
        "\n",
        "Nowadays, social media advertising is one of the popular forms of advertising. Advertisers can utilise a user's demographic information and target their ads accordingly.\n",
        "\n",
        "Build a Logistic Regression model to determine whether or not a user will purchase a particular product displayed on a social network ad by analysing the impact of the age of the user.\n",
        "\n"
      ]
    },
    {
      "cell_type": "markdown",
      "metadata": {
        "id": "cV6O1B17yAmf"
      },
      "source": [
        "---"
      ]
    },
    {
      "cell_type": "markdown",
      "metadata": {
        "id": "7QID5cPsyBMs"
      },
      "source": [
        "### List of Activities\n",
        "\n",
        "**Activity 1:** Analyse the Dataset\n",
        "\n",
        "  \n",
        "**Activity 2:**  Normalise the Dataset\n",
        "\n",
        "**Activity 3:**  Calculate the Sigmoid Output\n",
        "\n",
        "**Activity 4:** Model Prediction\n",
        "\n",
        "**Activity 5:** Model Evaluation\n",
        "\n",
        "**Activity 6**: Experiment and Compare Performance With Some Threshold Values"
      ]
    },
    {
      "cell_type": "markdown",
      "metadata": {
        "id": "Gddd4cfWyEOa"
      },
      "source": [
        "---"
      ]
    },
    {
      "cell_type": "markdown",
      "metadata": {
        "id": "OkWqRyLTyE1Z"
      },
      "source": [
        "#### Activity 1:  Analysing the Dataset\n",
        "\n",
        "\n",
        "\n",
        "- Create a Pandas DataFrame for a **Social Network** dataset using the below link. This dataset consists of the following columns:\n",
        "\n",
        "|Field|Description|\n",
        "|---:|:---|\n",
        "|UserID|Unique ID|\n",
        "|Gender|Male or Female|\n",
        "|Age|Age of a person|\n",
        "|EstimatedSalary|Salary of a person|\n",
        "|Purchased|‘0’ or ‘1’. ‘0’ means not purchased and ‘1’ means purchased.|\n",
        "\n",
        "\n",
        "  **Source:** https://www.kaggle.com/rishabhsingh98/social-network-ads\n",
        "  \n",
        "  **Dataset Link:** https://student-datasets-bucket.s3.ap-south-1.amazonaws.com/whitehat-ds-datasets/social-network-ads.csv\n",
        "\n",
        "\n",
        "- Print first five rows of the dataset.\n"
      ]
    },
    {
      "cell_type": "code",
      "metadata": {
        "id": "d8LegW1YyS3V"
      },
      "source": [
        "# Import the required modules and load the dataset\n",
        "import pandas as pd\n",
        "df = pd.read_csv('https://student-datasets-bucket.s3.ap-south-1.amazonaws.com/whitehat-ds-datasets/social-network-ads.csv')"
      ],
      "execution_count": null,
      "outputs": []
    },
    {
      "cell_type": "code",
      "metadata": {
        "id": "XMuURFw6yZmC",
        "colab": {
          "base_uri": "https://localhost:8080/",
          "height": 206
        },
        "outputId": "c7996416-c7e1-475a-8922-036856ffb513"
      },
      "source": [
        "# Print first five rows of the dataframe.\n",
        "df.head()"
      ],
      "execution_count": null,
      "outputs": [
        {
          "output_type": "execute_result",
          "data": {
            "text/plain": [
              "    User ID  Gender  Age  EstimatedSalary  Purchased\n",
              "0  15624510    Male   19            19000          0\n",
              "1  15810944    Male   35            20000          0\n",
              "2  15668575  Female   26            43000          0\n",
              "3  15603246  Female   27            57000          0\n",
              "4  15804002    Male   19            76000          0"
            ],
            "text/html": [
              "\n",
              "  <div id=\"df-1fff3529-9ed2-4c46-9dac-b1a94158d373\" class=\"colab-df-container\">\n",
              "    <div>\n",
              "<style scoped>\n",
              "    .dataframe tbody tr th:only-of-type {\n",
              "        vertical-align: middle;\n",
              "    }\n",
              "\n",
              "    .dataframe tbody tr th {\n",
              "        vertical-align: top;\n",
              "    }\n",
              "\n",
              "    .dataframe thead th {\n",
              "        text-align: right;\n",
              "    }\n",
              "</style>\n",
              "<table border=\"1\" class=\"dataframe\">\n",
              "  <thead>\n",
              "    <tr style=\"text-align: right;\">\n",
              "      <th></th>\n",
              "      <th>User ID</th>\n",
              "      <th>Gender</th>\n",
              "      <th>Age</th>\n",
              "      <th>EstimatedSalary</th>\n",
              "      <th>Purchased</th>\n",
              "    </tr>\n",
              "  </thead>\n",
              "  <tbody>\n",
              "    <tr>\n",
              "      <th>0</th>\n",
              "      <td>15624510</td>\n",
              "      <td>Male</td>\n",
              "      <td>19</td>\n",
              "      <td>19000</td>\n",
              "      <td>0</td>\n",
              "    </tr>\n",
              "    <tr>\n",
              "      <th>1</th>\n",
              "      <td>15810944</td>\n",
              "      <td>Male</td>\n",
              "      <td>35</td>\n",
              "      <td>20000</td>\n",
              "      <td>0</td>\n",
              "    </tr>\n",
              "    <tr>\n",
              "      <th>2</th>\n",
              "      <td>15668575</td>\n",
              "      <td>Female</td>\n",
              "      <td>26</td>\n",
              "      <td>43000</td>\n",
              "      <td>0</td>\n",
              "    </tr>\n",
              "    <tr>\n",
              "      <th>3</th>\n",
              "      <td>15603246</td>\n",
              "      <td>Female</td>\n",
              "      <td>27</td>\n",
              "      <td>57000</td>\n",
              "      <td>0</td>\n",
              "    </tr>\n",
              "    <tr>\n",
              "      <th>4</th>\n",
              "      <td>15804002</td>\n",
              "      <td>Male</td>\n",
              "      <td>19</td>\n",
              "      <td>76000</td>\n",
              "      <td>0</td>\n",
              "    </tr>\n",
              "  </tbody>\n",
              "</table>\n",
              "</div>\n",
              "    <div class=\"colab-df-buttons\">\n",
              "\n",
              "  <div class=\"colab-df-container\">\n",
              "    <button class=\"colab-df-convert\" onclick=\"convertToInteractive('df-1fff3529-9ed2-4c46-9dac-b1a94158d373')\"\n",
              "            title=\"Convert this dataframe to an interactive table.\"\n",
              "            style=\"display:none;\">\n",
              "\n",
              "  <svg xmlns=\"http://www.w3.org/2000/svg\" height=\"24px\" viewBox=\"0 -960 960 960\">\n",
              "    <path d=\"M120-120v-720h720v720H120Zm60-500h600v-160H180v160Zm220 220h160v-160H400v160Zm0 220h160v-160H400v160ZM180-400h160v-160H180v160Zm440 0h160v-160H620v160ZM180-180h160v-160H180v160Zm440 0h160v-160H620v160Z\"/>\n",
              "  </svg>\n",
              "    </button>\n",
              "\n",
              "  <style>\n",
              "    .colab-df-container {\n",
              "      display:flex;\n",
              "      gap: 12px;\n",
              "    }\n",
              "\n",
              "    .colab-df-convert {\n",
              "      background-color: #E8F0FE;\n",
              "      border: none;\n",
              "      border-radius: 50%;\n",
              "      cursor: pointer;\n",
              "      display: none;\n",
              "      fill: #1967D2;\n",
              "      height: 32px;\n",
              "      padding: 0 0 0 0;\n",
              "      width: 32px;\n",
              "    }\n",
              "\n",
              "    .colab-df-convert:hover {\n",
              "      background-color: #E2EBFA;\n",
              "      box-shadow: 0px 1px 2px rgba(60, 64, 67, 0.3), 0px 1px 3px 1px rgba(60, 64, 67, 0.15);\n",
              "      fill: #174EA6;\n",
              "    }\n",
              "\n",
              "    .colab-df-buttons div {\n",
              "      margin-bottom: 4px;\n",
              "    }\n",
              "\n",
              "    [theme=dark] .colab-df-convert {\n",
              "      background-color: #3B4455;\n",
              "      fill: #D2E3FC;\n",
              "    }\n",
              "\n",
              "    [theme=dark] .colab-df-convert:hover {\n",
              "      background-color: #434B5C;\n",
              "      box-shadow: 0px 1px 3px 1px rgba(0, 0, 0, 0.15);\n",
              "      filter: drop-shadow(0px 1px 2px rgba(0, 0, 0, 0.3));\n",
              "      fill: #FFFFFF;\n",
              "    }\n",
              "  </style>\n",
              "\n",
              "    <script>\n",
              "      const buttonEl =\n",
              "        document.querySelector('#df-1fff3529-9ed2-4c46-9dac-b1a94158d373 button.colab-df-convert');\n",
              "      buttonEl.style.display =\n",
              "        google.colab.kernel.accessAllowed ? 'block' : 'none';\n",
              "\n",
              "      async function convertToInteractive(key) {\n",
              "        const element = document.querySelector('#df-1fff3529-9ed2-4c46-9dac-b1a94158d373');\n",
              "        const dataTable =\n",
              "          await google.colab.kernel.invokeFunction('convertToInteractive',\n",
              "                                                    [key], {});\n",
              "        if (!dataTable) return;\n",
              "\n",
              "        const docLinkHtml = 'Like what you see? Visit the ' +\n",
              "          '<a target=\"_blank\" href=https://colab.research.google.com/notebooks/data_table.ipynb>data table notebook</a>'\n",
              "          + ' to learn more about interactive tables.';\n",
              "        element.innerHTML = '';\n",
              "        dataTable['output_type'] = 'display_data';\n",
              "        await google.colab.output.renderOutput(dataTable, element);\n",
              "        const docLink = document.createElement('div');\n",
              "        docLink.innerHTML = docLinkHtml;\n",
              "        element.appendChild(docLink);\n",
              "      }\n",
              "    </script>\n",
              "  </div>\n",
              "\n",
              "\n",
              "<div id=\"df-7a128711-dc7f-46bc-b31a-f0a7f2d49bfb\">\n",
              "  <button class=\"colab-df-quickchart\" onclick=\"quickchart('df-7a128711-dc7f-46bc-b31a-f0a7f2d49bfb')\"\n",
              "            title=\"Suggest charts.\"\n",
              "            style=\"display:none;\">\n",
              "\n",
              "<svg xmlns=\"http://www.w3.org/2000/svg\" height=\"24px\"viewBox=\"0 0 24 24\"\n",
              "     width=\"24px\">\n",
              "    <g>\n",
              "        <path d=\"M19 3H5c-1.1 0-2 .9-2 2v14c0 1.1.9 2 2 2h14c1.1 0 2-.9 2-2V5c0-1.1-.9-2-2-2zM9 17H7v-7h2v7zm4 0h-2V7h2v10zm4 0h-2v-4h2v4z\"/>\n",
              "    </g>\n",
              "</svg>\n",
              "  </button>\n",
              "\n",
              "<style>\n",
              "  .colab-df-quickchart {\n",
              "      --bg-color: #E8F0FE;\n",
              "      --fill-color: #1967D2;\n",
              "      --hover-bg-color: #E2EBFA;\n",
              "      --hover-fill-color: #174EA6;\n",
              "      --disabled-fill-color: #AAA;\n",
              "      --disabled-bg-color: #DDD;\n",
              "  }\n",
              "\n",
              "  [theme=dark] .colab-df-quickchart {\n",
              "      --bg-color: #3B4455;\n",
              "      --fill-color: #D2E3FC;\n",
              "      --hover-bg-color: #434B5C;\n",
              "      --hover-fill-color: #FFFFFF;\n",
              "      --disabled-bg-color: #3B4455;\n",
              "      --disabled-fill-color: #666;\n",
              "  }\n",
              "\n",
              "  .colab-df-quickchart {\n",
              "    background-color: var(--bg-color);\n",
              "    border: none;\n",
              "    border-radius: 50%;\n",
              "    cursor: pointer;\n",
              "    display: none;\n",
              "    fill: var(--fill-color);\n",
              "    height: 32px;\n",
              "    padding: 0;\n",
              "    width: 32px;\n",
              "  }\n",
              "\n",
              "  .colab-df-quickchart:hover {\n",
              "    background-color: var(--hover-bg-color);\n",
              "    box-shadow: 0 1px 2px rgba(60, 64, 67, 0.3), 0 1px 3px 1px rgba(60, 64, 67, 0.15);\n",
              "    fill: var(--button-hover-fill-color);\n",
              "  }\n",
              "\n",
              "  .colab-df-quickchart-complete:disabled,\n",
              "  .colab-df-quickchart-complete:disabled:hover {\n",
              "    background-color: var(--disabled-bg-color);\n",
              "    fill: var(--disabled-fill-color);\n",
              "    box-shadow: none;\n",
              "  }\n",
              "\n",
              "  .colab-df-spinner {\n",
              "    border: 2px solid var(--fill-color);\n",
              "    border-color: transparent;\n",
              "    border-bottom-color: var(--fill-color);\n",
              "    animation:\n",
              "      spin 1s steps(1) infinite;\n",
              "  }\n",
              "\n",
              "  @keyframes spin {\n",
              "    0% {\n",
              "      border-color: transparent;\n",
              "      border-bottom-color: var(--fill-color);\n",
              "      border-left-color: var(--fill-color);\n",
              "    }\n",
              "    20% {\n",
              "      border-color: transparent;\n",
              "      border-left-color: var(--fill-color);\n",
              "      border-top-color: var(--fill-color);\n",
              "    }\n",
              "    30% {\n",
              "      border-color: transparent;\n",
              "      border-left-color: var(--fill-color);\n",
              "      border-top-color: var(--fill-color);\n",
              "      border-right-color: var(--fill-color);\n",
              "    }\n",
              "    40% {\n",
              "      border-color: transparent;\n",
              "      border-right-color: var(--fill-color);\n",
              "      border-top-color: var(--fill-color);\n",
              "    }\n",
              "    60% {\n",
              "      border-color: transparent;\n",
              "      border-right-color: var(--fill-color);\n",
              "    }\n",
              "    80% {\n",
              "      border-color: transparent;\n",
              "      border-right-color: var(--fill-color);\n",
              "      border-bottom-color: var(--fill-color);\n",
              "    }\n",
              "    90% {\n",
              "      border-color: transparent;\n",
              "      border-bottom-color: var(--fill-color);\n",
              "    }\n",
              "  }\n",
              "</style>\n",
              "\n",
              "  <script>\n",
              "    async function quickchart(key) {\n",
              "      const quickchartButtonEl =\n",
              "        document.querySelector('#' + key + ' button');\n",
              "      quickchartButtonEl.disabled = true;  // To prevent multiple clicks.\n",
              "      quickchartButtonEl.classList.add('colab-df-spinner');\n",
              "      try {\n",
              "        const charts = await google.colab.kernel.invokeFunction(\n",
              "            'suggestCharts', [key], {});\n",
              "      } catch (error) {\n",
              "        console.error('Error during call to suggestCharts:', error);\n",
              "      }\n",
              "      quickchartButtonEl.classList.remove('colab-df-spinner');\n",
              "      quickchartButtonEl.classList.add('colab-df-quickchart-complete');\n",
              "    }\n",
              "    (() => {\n",
              "      let quickchartButtonEl =\n",
              "        document.querySelector('#df-7a128711-dc7f-46bc-b31a-f0a7f2d49bfb button');\n",
              "      quickchartButtonEl.style.display =\n",
              "        google.colab.kernel.accessAllowed ? 'block' : 'none';\n",
              "    })();\n",
              "  </script>\n",
              "</div>\n",
              "    </div>\n",
              "  </div>\n"
            ]
          },
          "metadata": {},
          "execution_count": 3
        }
      ]
    },
    {
      "cell_type": "code",
      "metadata": {
        "id": "qBZ8bgu8nInW",
        "colab": {
          "base_uri": "https://localhost:8080/"
        },
        "outputId": "c502ab4c-9de7-45ca-b215-8996032c3c9d"
      },
      "source": [
        "# Check for null values\n",
        "df.isnull().sum()"
      ],
      "execution_count": null,
      "outputs": [
        {
          "output_type": "execute_result",
          "data": {
            "text/plain": [
              "User ID            0\n",
              "Gender             0\n",
              "Age                0\n",
              "EstimatedSalary    0\n",
              "Purchased          0\n",
              "dtype: int64"
            ]
          },
          "metadata": {},
          "execution_count": 4
        }
      ]
    },
    {
      "cell_type": "markdown",
      "metadata": {
        "id": "T-bX2wLonKzU"
      },
      "source": [
        "**Q:** Are there any missing values?\n",
        "\n",
        "**A:** No"
      ]
    },
    {
      "cell_type": "code",
      "metadata": {
        "id": "dbFRn6XBnGS8",
        "colab": {
          "base_uri": "https://localhost:8080/",
          "height": 737
        },
        "outputId": "d3e4b191-f7a3-4563-9e86-858c17a3a271"
      },
      "source": [
        "# Create a heatmap to identify the relation between attributes\n",
        "import matplotlib.pyplot as plt\n",
        "import seaborn as sns\n",
        "\n",
        "plt.figure(figsize=(10,8))\n",
        "sns.heatmap(data=df.corr(), annot=True)\n",
        "plt.show()"
      ],
      "execution_count": null,
      "outputs": [
        {
          "output_type": "stream",
          "name": "stderr",
          "text": [
            "<ipython-input-5-31b54eab7d59>:6: FutureWarning: The default value of numeric_only in DataFrame.corr is deprecated. In a future version, it will default to False. Select only valid columns or specify the value of numeric_only to silence this warning.\n",
            "  sns.heatmap(data=df.corr(), annot=True)\n"
          ]
        },
        {
          "output_type": "display_data",
          "data": {
            "text/plain": [
              "<Figure size 1000x800 with 2 Axes>"
            ],
            "image/png": "[encoded data removed]"
          },
          "metadata": {}
        }
      ]
    },
    {
      "cell_type": "markdown",
      "metadata": {
        "id": "B6Faw5WYnf-O"
      },
      "source": [
        "**Q:** Which attribute(s) has the strongest relationship with the `Purchased` feature? Why?\n",
        "\n",
        "**A:** Age, maybe because as the older you get the more use you have to items shown on social media, you don't need permission from others, and you have more financial freedom."
      ]
    },
    {
      "cell_type": "markdown",
      "metadata": {
        "id": "no23D1D7yd3d"
      },
      "source": [
        "---"
      ]
    },
    {
      "cell_type": "markdown",
      "metadata": {
        "id": "7RGCWGLRm0wF"
      },
      "source": [
        "#### Activity 2:  Normalise the Dataset\n",
        "\n",
        " Perform the following tasks:\n",
        "\n",
        " - Get the descriptive statistics for the `Age` column.\n",
        "\n",
        " - Normalise the `Are` column values by calculating their $Z$-scores (or standard scaler).\n",
        "\n"
      ]
    },
    {
      "cell_type": "code",
      "metadata": {
        "id": "ZwNbJzG7noyc",
        "colab": {
          "base_uri": "https://localhost:8080/",
          "height": 530
        },
        "outputId": "e29b403c-1726-4196-fc3e-5cf259692af0"
      },
      "source": [
        "# Get the descriptive statistics for the 'Age' column.\n",
        "print(df['Age'].describe())\n",
        "\n",
        "# Plot a histogram to show the distribution of values for the 'Age' column.\n",
        "plt.figure(figsize = (12, 4), dpi = 96)\n",
        "plt.title(\"Histogram for the Distribution of Age Values\")\n",
        "plt.hist(df['Age'], bins = 'sturges', edgecolor = 'black')\n",
        "plt.show()"
      ],
      "execution_count": null,
      "outputs": [
        {
          "output_type": "stream",
          "name": "stdout",
          "text": [
            "count    400.000000\n",
            "mean      37.655000\n",
            "std       10.482877\n",
            "min       18.000000\n",
            "25%       29.750000\n",
            "50%       37.000000\n",
            "75%       46.000000\n",
            "max       60.000000\n",
            "Name: Age, dtype: float64\n"
          ]
        },
        {
          "output_type": "display_data",
          "data": {
            "text/plain": [
              "<Figure size 1152x384 with 1 Axes>"
            ],
            "image/png": "[encoded data removed]"
          },
          "metadata": {}
        }
      ]
    },
    {
      "cell_type": "code",
      "metadata": {
        "id": "i8jUq398nyK_",
        "colab": {
          "base_uri": "https://localhost:8080/",
          "height": 565
        },
        "outputId": "16c3925d-1bd1-45fa-eeba-8649784a8ab5"
      },
      "source": [
        "# Normalise the 'Age' column values using the standard scaler method.\n",
        "\n",
        "def standard_scaler(series):\n",
        "  new_series = (series - series.mean()) / series.std()\n",
        "  return new_series\n",
        "\n",
        "Age_scaled = standard_scaler(df['Age'])\n",
        "\n",
        "# Get the descriptive statistics for the normalised 'Age' column.\n",
        "print(f\"Descriptive statistics for the normalised age values:\\n{Age_scaled.describe()}\\n\")\n",
        "\n",
        "# Plot a histogram to show the distribution of values for the normalised 'age' column.\n",
        "plt.figure(figsize = (12, 4), dpi = 96)\n",
        "plt.title(\"Histogram for the Normalised Age Values\")\n",
        "plt.hist(Age_scaled, bins = 'sturges', edgecolor = 'black')\n",
        "plt.show()"
      ],
      "execution_count": null,
      "outputs": [
        {
          "output_type": "stream",
          "name": "stdout",
          "text": [
            "Descriptive statistics for the normalised age values:\n",
            "count    4.000000e+02\n",
            "mean    -1.421085e-16\n",
            "std      1.000000e+00\n",
            "min     -1.874962e+00\n",
            "25%     -7.540869e-01\n",
            "50%     -6.248285e-02\n",
            "75%      7.960601e-01\n",
            "max      2.131571e+00\n",
            "Name: Age, dtype: float64\n",
            "\n"
          ]
        },
        {
          "output_type": "display_data",
          "data": {
            "text/plain": [
              "<Figure size 1152x384 with 1 Axes>"
            ],
            "image/png": "[encoded data removed]"
          },
          "metadata": {}
        }
      ]
    },
    {
      "cell_type": "markdown",
      "metadata": {
        "id": "WVBOOGjuoJqO"
      },
      "source": [
        "---"
      ]
    },
    {
      "cell_type": "markdown",
      "metadata": {
        "id": "4ne6b_j10JOO"
      },
      "source": [
        "#### Activity 3:  Calculate the Sigmoid Output\n",
        "\n",
        "1. Create a sigmoid function.\n",
        "\n",
        "2.  Calculate the sigmoid output for the scaled (or Normalised) `Age` values."
      ]
    },
    {
      "cell_type": "code",
      "metadata": {
        "id": "byMs7DJKoYnt"
      },
      "source": [
        "# Create a sigmoid() function using the above formula.\n",
        "import numpy as np\n",
        "def sigmoid(x):\n",
        "  return pd.Series(1/(1+np.exp(-x)))"
      ],
      "execution_count": null,
      "outputs": []
    },
    {
      "cell_type": "code",
      "metadata": {
        "id": "moY-xMeLoacu",
        "colab": {
          "base_uri": "https://localhost:8080/"
        },
        "outputId": "00ef50dc-367b-4c58-f09c-d22afa03c8b2"
      },
      "source": [
        "# Calculate the sigmoid output for the scaled (or normalised) Age values.\n",
        "scaled_age_sigmoid = sigmoid(Age_scaled)\n",
        "\n",
        "# Get the descriptive statistics for the sigmoid output of the normalised 'Age'.\n",
        "scaled_age_sigmoid.describe()"
      ],
      "execution_count": null,
      "outputs": [
        {
          "output_type": "execute_result",
          "data": {
            "text/plain": [
              "count    400.000000\n",
              "mean       0.497031\n",
              "std        0.212792\n",
              "min        0.132969\n",
              "25%        0.319999\n",
              "50%        0.484384\n",
              "75%        0.689131\n",
              "max        0.893934\n",
              "Name: Age, dtype: float64"
            ]
          },
          "metadata": {},
          "execution_count": 9
        }
      ]
    },
    {
      "cell_type": "markdown",
      "metadata": {
        "id": "iwOFw0uglpXf"
      },
      "source": [
        "---"
      ]
    },
    {
      "cell_type": "markdown",
      "metadata": {
        "id": "HeKSJ2kDK1sD"
      },
      "source": [
        "#### Activity 4:  Model Prediction\n",
        "\n",
        "Consider the threshold probability value of 0.5.\n",
        "\n",
        "- Create a function that classifies the sigmoid output for the scaled  `Age` values into 0s and 1s using a threshold value of 0.5.\n"
      ]
    },
    {
      "cell_type": "code",
      "metadata": {
        "id": "-YHBFvoZ-1Ju"
      },
      "source": [
        "# Create a function 'predict()' that takes the sigmoid output and the threshold\n",
        "# and returns a Pandas series containing the predicted values (0s and 1s) as the output.\n",
        "def predict(sigmoid_output,threshold):\n",
        "  y_pred = [ 1 if output >= threshold else 0 for output in sigmoid_output]\n",
        "  return y_pred"
      ],
      "execution_count": null,
      "outputs": []
    },
    {
      "cell_type": "code",
      "metadata": {
        "id": "WvpYszOrpBBV",
        "colab": {
          "base_uri": "https://localhost:8080/"
        },
        "outputId": "3f2d56cf-3967-4dd2-83c1-58ceb45775ec"
      },
      "source": [
        "# Use the 'predict()' function to classify the 'sigmoid()' function outputs as 0 and 1.\n",
        "# Consider a threshold value of 0.5.\n",
        "y_pred = np.array(predict(scaled_age_sigmoid, 0.5))\n",
        "y_pred"
      ],
      "execution_count": null,
      "outputs": [
        {
          "output_type": "execute_result",
          "data": {
            "text/plain": [
              "array([0, 0, 0, 0, 0, 0, 0, 0, 0, 0, 0, 0, 0, 0, 0, 0, 1, 1, 1, 1, 1, 1,\n",
              "       1, 1, 1, 1, 1, 1, 0, 0, 0, 0, 0, 0, 0, 0, 0, 0, 0, 0, 0, 0, 0, 0,\n",
              "       0, 0, 0, 0, 0, 0, 0, 0, 0, 0, 0, 0, 0, 0, 0, 0, 0, 0, 0, 0, 1, 0,\n",
              "       0, 0, 0, 0, 0, 0, 0, 0, 0, 0, 0, 0, 0, 0, 0, 1, 0, 0, 0, 0, 0, 0,\n",
              "       0, 0, 0, 0, 0, 0, 0, 0, 0, 0, 0, 0, 0, 0, 0, 0, 0, 0, 0, 0, 0, 1,\n",
              "       1, 0, 1, 0, 1, 1, 0, 0, 1, 1, 0, 0, 1, 0, 1, 1, 1, 0, 0, 0, 0, 0,\n",
              "       0, 0, 0, 0, 0, 0, 0, 0, 0, 0, 0, 0, 0, 0, 0, 1, 0, 0, 0, 1, 0, 0,\n",
              "       1, 0, 1, 0, 0, 0, 0, 0, 0, 0, 0, 0, 0, 0, 0, 0, 0, 0, 0, 0, 0, 0,\n",
              "       0, 0, 0, 0, 0, 0, 0, 0, 0, 0, 0, 0, 0, 0, 0, 0, 0, 0, 0, 0, 0, 0,\n",
              "       0, 0, 0, 1, 1, 1, 1, 1, 1, 1, 1, 1, 1, 1, 1, 0, 1, 1, 1, 1, 1, 1,\n",
              "       1, 0, 0, 1, 0, 0, 0, 1, 1, 1, 0, 1, 1, 1, 1, 1, 1, 0, 1, 1, 1, 1,\n",
              "       1, 1, 1, 1, 0, 1, 1, 0, 1, 0, 1, 0, 1, 1, 1, 1, 1, 1, 0, 0, 1, 0,\n",
              "       1, 1, 1, 0, 1, 1, 1, 1, 1, 1, 1, 1, 1, 1, 1, 1, 1, 0, 0, 1, 1, 0,\n",
              "       0, 1, 1, 0, 1, 1, 1, 0, 0, 0, 1, 1, 1, 1, 1, 1, 0, 0, 1, 1, 1, 1,\n",
              "       0, 1, 1, 1, 1, 1, 1, 1, 1, 0, 1, 0, 1, 1, 1, 1, 1, 1, 1, 1, 0, 1,\n",
              "       1, 1, 1, 1, 1, 0, 1, 0, 1, 1, 1, 0, 1, 1, 1, 1, 1, 1, 1, 1, 1, 0,\n",
              "       1, 0, 0, 1, 1, 1, 1, 1, 1, 1, 1, 1, 1, 1, 1, 1, 1, 1, 1, 1, 1, 1,\n",
              "       0, 1, 1, 1, 1, 1, 1, 1, 1, 1, 1, 1, 1, 1, 1, 1, 1, 1, 1, 1, 1, 1,\n",
              "       1, 1, 0, 1])"
            ]
          },
          "metadata": {},
          "execution_count": 11
        }
      ]
    },
    {
      "cell_type": "markdown",
      "metadata": {
        "id": "Nx7LZFPklloT"
      },
      "source": [
        "---"
      ]
    },
    {
      "cell_type": "markdown",
      "metadata": {
        "id": "Wf7G6AMyND1s"
      },
      "source": [
        "#### Activity 5:  Model Evaluation\n",
        "\n",
        "Evaluate the model by calculating the number of false positives and false negatives using a confusion matrix. Also, print the classification report for the predicted values."
      ]
    },
    {
      "cell_type": "code",
      "metadata": {
        "id": "MujpW8MlD5JO",
        "colab": {
          "base_uri": "https://localhost:8080/"
        },
        "outputId": "79b264a2-832b-4e35-a1a8-ee0a0a54ce0b"
      },
      "source": [
        "# Create a confusion matrix for the predicted values.\n",
        "from sklearn.metrics import confusion_matrix, classification_report\n",
        "\n",
        "confusion_matrix(df['Purchased'],y_pred)"
      ],
      "execution_count": null,
      "outputs": [
        {
          "output_type": "execute_result",
          "data": {
            "text/plain": [
              "array([[181,  76],\n",
              "       [ 29, 114]])"
            ]
          },
          "metadata": {},
          "execution_count": 12
        }
      ]
    },
    {
      "cell_type": "code",
      "metadata": {
        "id": "JxQLwQOSD9fr",
        "colab": {
          "base_uri": "https://localhost:8080/"
        },
        "outputId": "a5c24314-ebe9-4964-f545-bd3d1f12657e"
      },
      "source": [
        "# Print the classification report for the predicted values.\n",
        "print(classification_report(df['Purchased'],y_pred))"
      ],
      "execution_count": null,
      "outputs": [
        {
          "output_type": "stream",
          "name": "stdout",
          "text": [
            "              precision    recall  f1-score   support\n",
            "\n",
            "           0       0.86      0.70      0.78       257\n",
            "           1       0.60      0.80      0.68       143\n",
            "\n",
            "    accuracy                           0.74       400\n",
            "   macro avg       0.73      0.75      0.73       400\n",
            "weighted avg       0.77      0.74      0.74       400\n",
            "\n"
          ]
        }
      ]
    },
    {
      "cell_type": "markdown",
      "metadata": {
        "id": "FbNcwVwsqDj-"
      },
      "source": [
        "**Q** Write the count of f1-score for both the labels?\n",
        "\n",
        "**A:** For 0: 0.78, For 1: 0.68"
      ]
    },
    {
      "cell_type": "markdown",
      "metadata": {
        "id": "g1IXmbUblb2w"
      },
      "source": [
        "---"
      ]
    },
    {
      "cell_type": "markdown",
      "metadata": {
        "id": "h07JSNS3dt7b"
      },
      "source": [
        "#### Activity 6: Experiment and Compare Performance With Some Threshold Values\n",
        "\n",
        "---\n",
        "\n",
        "\n",
        "\n",
        "Try threshold values =$[0.1,0.3,0.5,0.7,0.9]$ and compare their performance. Plot a graph to visualise."
      ]
    },
    {
      "cell_type": "code",
      "metadata": {
        "id": "yD8187eqdtRl",
        "colab": {
          "base_uri": "https://localhost:8080/",
          "height": 447
        },
        "outputId": "f276fed6-2a0f-40ca-9e46-5269af98f2e3"
      },
      "source": [
        "thresholds = [0.1, 0.3, 0.5, 0.7, 0.9]\n",
        "# Function to calculate accuracy, comparing actual target with predicted\n",
        "def calc_accuracy(y_actual,y_pred):\n",
        "  count = 0\n",
        "  for i in range(0,len(y_actual)):\n",
        "    if y_actual[i] == y_pred[i]:\n",
        "      count = count+1\n",
        "  return count / len(y_actual)\n",
        "\n",
        "# Calculate accuracy and save it in the accuracy list\n",
        "accuracy_list = []\n",
        "for i in thresholds:\n",
        "  y_predicted = predict(scaled_age_sigmoid,i)\n",
        "  accuracy_list.append(calc_accuracy(df['Purchased'],y_predicted))\n",
        "# Print the accuracy values\n",
        "print(accuracy_list)\n",
        "# Plot graph to visualise the accuracy for various thresholds\n",
        "plt.plot(thresholds,accuracy_list)\n",
        "# Function to show the plot\n",
        "plt.show()"
      ],
      "execution_count": null,
      "outputs": [
        {
          "output_type": "stream",
          "name": "stdout",
          "text": [
            "[0.3575, 0.5675, 0.7375, 0.82, 0.6425]\n"
          ]
        },
        {
          "output_type": "display_data",
          "data": {
            "text/plain": [
              "<Figure size 640x480 with 1 Axes>"
            ],
            "image/png": "[encoded data removed]"
          },
          "metadata": {}
        }
      ]
    },
    {
      "cell_type": "markdown",
      "metadata": {
        "id": "i2pV9URsd3HF"
      },
      "source": [
        "**Q:** What are your observations for change in accuracy with respect to threshold values? Why do you think this is the case?\n",
        "\n",
        "**A:** As the threshold values increase from 0.1 to 0.7, the accuracy also increases. When the threshold value reaches from 0.7 to 0.9, the accuracy decreased.\n",
        "\n",
        "**Reason**: With extreme high threshold values the sigmoid function becomes biased which is why the accuracy dropped."
      ]
    },
    {
      "cell_type": "markdown",
      "metadata": {
        "id": "JZ03820vd4u7"
      },
      "source": [
        "---"
      ]
    },
    {
      "cell_type": "markdown",
      "metadata": {
        "id": "izxQOzGgwNU4"
      },
      "source": [
        "### Submitting the Project:\n",
        "\n",
        "1. After finishing the project, click on the **Share** button on the top right corner of the notebook. A new dialog box will appear.\n",
        "\n",
        "  <img src='https://student-datasets-bucket.s3.ap-south-1.amazonaws.com/images/project-share-images/2_share_button.png' width=500>\n",
        "\n",
        "2. In the dialog box, make sure that '**Anyone on the Internet with this link can view**' option is selected and then click on the **Copy link** button.\n",
        "\n",
        "   <img src='https://student-datasets-bucket.s3.ap-south-1.amazonaws.com/images/project-share-images/3_copy_link.png' width=500>\n",
        "\n",
        "3. The link of the duplicate copy (named as **YYYY-MM-DD_StudentName_Project74**) of the notebook will get copied.\n",
        "\n",
        "   <img src='https://student-datasets-bucket.s3.ap-south-1.amazonaws.com/images/project-share-images/4_copy_link_confirmation.png' width=500>\n",
        "\n",
        "4. Go to your dashboard and click on the **My Projects** option.\n",
        "   \n",
        "   <img src='https://student-datasets-bucket.s3.ap-south-1.amazonaws.com/images/project-share-images/5_student_dashboard.png' width=800>\n",
        "\n",
        "  <img src='https://student-datasets-bucket.s3.ap-south-1.amazonaws.com/images/project-share-images/6_my_projects.png' width=800>\n",
        "\n",
        "5. Click on the **View Project** button for the project you want to submit.\n",
        "\n",
        "   <img src='https://student-datasets-bucket.s3.ap-south-1.amazonaws.com/images/project-share-images/7_view_project.png' width=800>\n",
        "\n",
        "6. Click on the **Submit Project Here** button.\n",
        "\n",
        "   <img src='https://student-datasets-bucket.s3.ap-south-1.amazonaws.com/images/project-share-images/8_submit_project.png' width=800>\n",
        "\n",
        "7. Paste the link to the project file named as **YYYY-MM-DD_StudentName_Project74** in the URL box and then click on the **Submit** button.\n",
        "\n",
        "   <img src='https://student-datasets-bucket.s3.ap-south-1.amazonaws.com/images/project-share-images/9_enter_project_url.png' width=800>"
      ]
    },
    {
      "cell_type": "markdown",
      "metadata": {
        "id": "6v5LqeYuwPVn"
      },
      "source": [
        "---"
      ]
    }
  ]
}